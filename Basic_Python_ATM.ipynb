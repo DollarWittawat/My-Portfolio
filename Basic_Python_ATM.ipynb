{
  "nbformat": 4,
  "nbformat_minor": 0,
  "metadata": {
    "colab": {
      "provenance": [],
      "authorship_tag": "ABX9TyOrJhnalNz4l4QrQYR4Kim6",
      "include_colab_link": true
    },
    "kernelspec": {
      "name": "python3",
      "display_name": "Python 3"
    },
    "language_info": {
      "name": "python"
    }
  },
  "cells": [
    {
      "cell_type": "markdown",
      "metadata": {
        "id": "view-in-github",
        "colab_type": "text"
      },
      "source": [
        "<a href=\"https://colab.research.google.com/github/DollarWittawat/My-Portfolio/blob/main/Basic_Python_ATM.ipynb\" target=\"_parent\"><img src=\"https://colab.research.google.com/assets/colab-badge.svg\" alt=\"Open In Colab\"/></a>"
      ]
    },
    {
      "cell_type": "code",
      "execution_count": null,
      "metadata": {
        "id": "qxg8mSrCyzpL"
      },
      "outputs": [],
      "source": [
        "class atm:\n",
        "    def __init__(self, name, pin, balance = 0):\n",
        "        self.name = name\n",
        "        self.pin = pin\n",
        "        self.balance = balance\n",
        "    \n",
        "    def __str__(self):\n",
        "        return \"This is Chonburi's ATM\"\n",
        "    \n",
        "    def account_detail(self):\n",
        "        print(\"\\n----------ACCOUNT DETAIL----------\")\n",
        "        print(f\"Account Holder: {self.name.upper()}\")\n",
        "        print(f\"Account Pin: {self.pin}\")\n",
        "        print(f\"Available balance: {self.balance}\\n\")\n",
        "    \n",
        "    def deposit(self,amount):\n",
        "        self.amount = amount\n",
        "        self.balance = self.balance + self.amount\n",
        "        print(\"Current account balance: \", self.balance)\n",
        "\n",
        "    def withdrawn(self,amount):\n",
        "        self.amount = amount\n",
        "        self.balance = self.balance - self.amount\n",
        "        print(\"Current account balance: \", self.balance)\n",
        "\n",
        "    def transfer(self,amount,transfer_to):\n",
        "        self.amount = amount\n",
        "        self.balance = self.balance - self.amount\n",
        "        self.transfer_to = transfer_to\n",
        "        print(\"Transfer Account: \", self.transfer_to)\n",
        "        print(\"Current account balance: \", self.balance)\n",
        "    \n",
        "    def donation(self,amount):\n",
        "        self.amount = amount\n",
        "        self.balance = self.balance - self.amount\n",
        "        print(\"Current account balance: \", self.balance)\n",
        "\n",
        "#Mock Data\n",
        "print(\"*****WELCOME TO BANK OF CHONBURI*****\")\n",
        "print(\"__________________________________\\n\")\n",
        "print(\"--------ACCOUNT INFORMATION--------\")\n",
        "\n",
        "customer = atm(input(\"Please enter your name: \").lower(),int(input(\"Please enter your pin: \")), 0)\n",
        "print(\"Congratulations! Login successfully\")\n",
        "\n",
        "print(\"\"\"\n",
        "            TRANSACTION \n",
        "        *********************\n",
        "            Menu:\n",
        "            1. Account Detail\n",
        "            2. Deposit\n",
        "            3. Withdrawn\n",
        "            4. Transfer\n",
        "            5. Donation\n",
        "            6. Exit\n",
        "        *********************\n",
        "        \"\"\")\n",
        "\n",
        "\n",
        "while(True):\n",
        "            \n",
        "        option = int(input(\"Enter [1, 2, 3, 4, 5, 6] : \"))\n",
        "        \n",
        "        if option == 1:\n",
        "                customer.account_detail()\n",
        "        elif option == 2:\n",
        "                customer.deposit(amount = int(input(\"How much you want to deposit:\")))\n",
        "        elif option == 3:\n",
        "                customer.withdrawn(amount = int(input(\"How much you want to withdraw:\")))\n",
        "        elif option == 4:\n",
        "                customer.transfer(amount = int(input(\"How much you want to transfer:\")),\n",
        "                transfer_to = input(\"Please enter transfer account name\"))\n",
        "        elif option == 5:\n",
        "                customer.donation(amount = int(input(\"How much you want to donate:\")))\n",
        "        elif option == 6:\n",
        "                print(\"Thank You for using us!\")\n",
        "                break\n",
        "\n",
        "        else: print(\"Please select again\")"
      ]
    }
  ]
}