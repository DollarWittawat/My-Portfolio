{
  "nbformat": 4,
  "nbformat_minor": 0,
  "metadata": {
    "colab": {
      "provenance": [],
      "authorship_tag": "ABX9TyMQQjs/w/XRAEYdRlq2dT3Q",
      "include_colab_link": true
    },
    "kernelspec": {
      "name": "python3",
      "display_name": "Python 3"
    },
    "language_info": {
      "name": "python"
    }
  },
  "cells": [
    {
      "cell_type": "markdown",
      "metadata": {
        "id": "view-in-github",
        "colab_type": "text"
      },
      "source": [
        "<a href=\"https://colab.research.google.com/github/DollarWittawat/My-Portfolio/blob/main/Basic_Python_with_RPS_game.ipynb\" target=\"_parent\"><img src=\"https://colab.research.google.com/assets/colab-badge.svg\" alt=\"Open In Colab\"/></a>"
      ]
    },
    {
      "cell_type": "code",
      "execution_count": null,
      "metadata": {
        "id": "dNx5WNlOwJI-"
      },
      "outputs": [],
      "source": [
        "def game_RPS():\n",
        "    \n",
        "    import random\n",
        "    player_name = input(\"Please enter your name: \")\n",
        "    win = 0\n",
        "    lose = 0\n",
        "    tie = 0\n",
        "\n",
        "    #Game \n",
        "    while(True):\n",
        "        com_hand = ['rock', 'scissors', 'paper']\n",
        "        opponent = random.choice(com_hand)\n",
        "        player_score = (f\"Score = Win: {win}, Lose: {lose}, Tie: {tie}\")\n",
        "        player_move = input(\"Please Choose rock, scissors, paper or exit: \").lower()\n",
        "\n",
        "        if  player_move == \"rock\" and opponent == \"scissors\":\n",
        "            print(f\"Player :{player_name}! Win!\")\n",
        "            win =+ win+1\n",
        "\n",
        "        elif player_move == \"scissors\" and opponent == \"paper\":\n",
        "            print(f\"Player :{player_name}!  Win!\")\n",
        "            win =+ win+1\n",
        "\n",
        "        elif player_move == \"paper\" and opponent == \"rock\":\n",
        "            print(f\"Player :{player_name}! Win!\")\n",
        "            win =+ win+1\n",
        "\n",
        "        elif player_move == \"rock\" and opponent == \"paper\":\n",
        "            print(f\"Player :{player_name}! Lose!\")\n",
        "            lose =+ lose+1\n",
        "\n",
        "        elif player_move == \"scissors\" and opponent == \"rock\":\n",
        "            print(f\"Player :{player_name}! Lose!\")\n",
        "            lose =+ lose+1\n",
        "\n",
        "        elif player_move == \"paper\" and opponent == \"scissors\":\n",
        "            print(f\"Player :{player_name}! Lose!\")\n",
        "            lose =+ lose+1\n",
        "\n",
        "        elif player_move == opponent:\n",
        "            print(f\"Player :{player_name}! Tie!\")\n",
        "            tie =+ tie+1\n",
        "        elif player_move == 'exit':\n",
        "            print(f\"{player_name} Total Score: {player_score}\")\n",
        "            break\n",
        "\n",
        "        else: print(\"Please select again <3\")\n",
        "\n",
        "print(game_RPS())"
      ]
    }
  ]
}